{
 "cells": [
  {
   "cell_type": "markdown",
   "id": "171bfd1d",
   "metadata": {},
   "source": [
    "Logic:\n",
    "- Có 1 file ggshet là Arrival (những SKU đã về kho)\n",
    "- Có 1 file ggsheet book DS (book tồn trên AMZ - chỉ cần điền ttin, bot tự động book trên AMZ) (sheet \"DS booking\")\n",
    "=> Lấy những con đã về kho nhưng chưa book DS (SKU mới, chưa có trên sheet DS Booking hoặc SKU hết hàng, SIC tự book tay, không điền vào DS booking) => Alert"
   ]
  },
  {
   "cell_type": "code",
   "execution_count": 1,
   "id": "9910e5ca",
   "metadata": {},
   "outputs": [],
   "source": [
    "# Create DataFrame\n",
    "import re\n",
    "import numpy as np\n",
    "import pandas as pd\n",
    "# Visualize\n",
    "import matplotlib as mpl\n",
    "import matplotlib.pyplot as plt\n",
    "import seaborn as sns\n",
    "import seaborn.objects as so\n",
    "# Connect Portgresat\n",
    "import psycopg2\n",
    "# Connect MySQL\n",
    "import mysql.connector\n",
    "import pyodbc\n",
    "# Connect Google Sheet\n",
    "import gspread\n",
    "from oauth2client.service_account import ServiceAccountCredentials\n",
    "from googleapiclient.discovery import build\n",
    "from google.oauth2.service_account import Credentials\n",
    "# Time\n",
    "#from datetime import datetime, timedelta\n",
    "from datetime import datetime, timedelta\n",
    "import datetime\n",
    "import time\n",
    "import schedule\n",
    "# System\n",
    "import os\n",
    "import sys\n",
    "import pickle\n",
    "\n",
    "#C:/Users/hieptn/Desktop/Setup/Python/instantclient_21_10\n",
    "import warnings\n",
    "warnings.filterwarnings('ignore') # os.chdir(r'C:\\Connection')\n",
    "from sqlalchemy import create_engine\n",
    "import sqlalchemy.exc\n",
    "# Format Mail\n",
    "from pretty_html_table import build_table\n",
    "from bs4 import BeautifulSoup\n",
    "#MAil\n",
    "import smtplib\n",
    "from email.mime.text import MIMEText\n",
    "from email.mime.multipart import MIMEMultipart\n",
    "from email.mime.application import MIMEApplication\n",
    "\n",
    "import numpy as np\n",
    "from tabulate import tabulate\n",
    "import textwrap"
   ]
  },
  {
   "cell_type": "code",
   "execution_count": 2,
   "id": "cd216f4a",
   "metadata": {},
   "outputs": [],
   "source": [
    "# Load the key file for the service account\n",
    "credentials = ServiceAccountCredentials.from_json_keyfile_name(r\"G:\\Shared drives\\Deployment Data Template\\Power BI\\Python Code\\2.Daily\\email-sending-via-python-fd13e6126e20.json\",\n",
    "scopes=['https://www.googleapis.com/auth/chat.bot'])\n",
    "\n",
    "# Build the service object\n",
    "chat = build('chat', 'v1', credentials=credentials) #v1 cho chat bot, v4 cho edit ggshet\n",
    "\n",
    "# Lấy data trong room space chat\n",
    "spaces = chat.spaces().list().execute()\n",
    "members = chat.spaces().members().list(parent=spaces['spaces'][2]['name']).execute() # đổi id để lấy space cần thiết\n",
    "members1 = members['memberships']\n",
    "\n",
    "result = []\n",
    "for item in members1:\n",
    "    # Extract the member name and display name from the nested dictionary\n",
    "    member_data = item.get('member', {})\n",
    "    member_name = member_data.get('name', 'N/A')  # Sử dụng giá trị mặc định 'N/A' nếu không tìm thấy 'name'\n",
    "    display_name = member_data.get('displayName', 'N/A')  # Sử dụng giá trị mặc định 'N/A' nếu không tìm thấy 'displayName'\n",
    "    # Add the extracted information into a new dictionary\n",
    "    result.append({'member_name': member_name, 'display_name': display_name})\n",
    "\n",
    "df_sales_pic_chat = pd.DataFrame(result)\n",
    "\n",
    "# Lấy thông tin Sales PIC\n",
    "# Cấu hình thông tin xác thực và kết nối đến Google Sheets API\n",
    "scope = ['https://spreadsheets.google.com/feeds', 'https://www.googleapis.com/auth/drive']\n",
    "creds = ServiceAccountCredentials.from_json_keyfile_name(r\"G:\\Shared drives\\Deployment Data Template\\Power BI\\Python Code\\2.Daily\\email-sending-via-python-fd13e6126e20.json\", scope)\n",
    "client = gspread.authorize(creds)\n",
    "service = build('sheets', 'v4', credentials=creds) #v1 cho chat bot, v4 cho edit ggshet\n",
    "# Lấy dữ liệu từ Google Sheet 1 \n",
    "spreadsheet_id1 = '1L7kZhRNkojHPqdQOHVYEdD9OYKdFw843JkRjMvh5HgI'\n",
    "#https://docs.google.com/spreadsheets/d/1L7kZhRNkojHPqdQOHVYEdD9OYKdFw843JkRjMvh5HgI/edit#gid=0\n",
    "range_name = 'Sales PIC!A1:C'\n",
    "result = service.spreadsheets().values().get(\n",
    "        spreadsheetId=spreadsheet_id1, range=range_name).execute()\n",
    "values = result.get('values', [])\n",
    "df_sales_pic = pd.DataFrame(result['values'][1:], columns=result['values'][0])"
   ]
  },
  {
   "cell_type": "code",
   "execution_count": 3,
   "id": "4bef98a1",
   "metadata": {},
   "outputs": [
    {
     "data": {
      "text/plain": [
       "{'spaces': [{'name': 'spaces/AAAAeR-aZjc',\n",
       "   'type': 'ROOM',\n",
       "   'displayName': 'Test chat bot',\n",
       "   'spaceThreadingState': 'THREADED_MESSAGES',\n",
       "   'spaceType': 'SPACE',\n",
       "   'spaceHistoryState': 'HISTORY_ON',\n",
       "   'createTime': '2024-01-10T08:01:47.610553Z'},\n",
       "  {'name': 'spaces/AAAAq6c6dr0',\n",
       "   'type': 'ROOM',\n",
       "   'displayName': 'DL Alert OOB Bot',\n",
       "   'spaceThreadingState': 'THREADED_MESSAGES',\n",
       "   'spaceType': 'SPACE',\n",
       "   'spaceDetails': {'description': 'Warn bots about OOB, Ineligible Hourly'},\n",
       "   'spaceHistoryState': 'HISTORY_ON',\n",
       "   'createTime': '2023-04-22T12:36:52.436835Z'},\n",
       "  {'name': 'spaces/AAAA1aINor8',\n",
       "   'type': 'ROOM',\n",
       "   'displayName': 'Test Alert (Stock onsite status/ DS Booking SKUs)',\n",
       "   'spaceThreadingState': 'THREADED_MESSAGES',\n",
       "   'spaceType': 'SPACE',\n",
       "   'spaceDetails': {'description': 'Test'},\n",
       "   'spaceHistoryState': 'HISTORY_ON',\n",
       "   'createTime': '2023-06-06T11:06:56.381804Z'}]}"
      ]
     },
     "execution_count": 3,
     "metadata": {},
     "output_type": "execute_result"
    }
   ],
   "source": [
    "spaces"
   ]
  },
  {
   "cell_type": "code",
   "execution_count": 4,
   "id": "0487e72f",
   "metadata": {},
   "outputs": [
    {
     "data": {
      "text/html": [
       "<div>\n",
       "<style scoped>\n",
       "    .dataframe tbody tr th:only-of-type {\n",
       "        vertical-align: middle;\n",
       "    }\n",
       "\n",
       "    .dataframe tbody tr th {\n",
       "        vertical-align: top;\n",
       "    }\n",
       "\n",
       "    .dataframe thead th {\n",
       "        text-align: right;\n",
       "    }\n",
       "</style>\n",
       "<table border=\"1\" class=\"dataframe\">\n",
       "  <thead>\n",
       "    <tr style=\"text-align: right;\">\n",
       "      <th></th>\n",
       "      <th>member_name</th>\n",
       "      <th>display_name</th>\n",
       "    </tr>\n",
       "  </thead>\n",
       "  <tbody>\n",
       "    <tr>\n",
       "      <th>0</th>\n",
       "      <td>users/101441363125954665107</td>\n",
       "      <td>Thiên Nguyễn Hoàng</td>\n",
       "    </tr>\n",
       "    <tr>\n",
       "      <th>1</th>\n",
       "      <td>users/111715880194110953044</td>\n",
       "      <td>Giang Đỗ Thu</td>\n",
       "    </tr>\n",
       "    <tr>\n",
       "      <th>2</th>\n",
       "      <td>users/115457224128174038130</td>\n",
       "      <td>Thành Khấu Nguyễn Trường</td>\n",
       "    </tr>\n",
       "    <tr>\n",
       "      <th>3</th>\n",
       "      <td>users/104831017180979964601</td>\n",
       "      <td>Yến Lâm Kim</td>\n",
       "    </tr>\n",
       "    <tr>\n",
       "      <th>4</th>\n",
       "      <td>users/110033644358569229509</td>\n",
       "      <td>Khôi Nguyễn Kim</td>\n",
       "    </tr>\n",
       "    <tr>\n",
       "      <th>5</th>\n",
       "      <td>users/114480486560260912816</td>\n",
       "      <td>Vỹ Lương Minh</td>\n",
       "    </tr>\n",
       "    <tr>\n",
       "      <th>6</th>\n",
       "      <td>users/101591789831969138242</td>\n",
       "      <td>Hùng Võ Trí</td>\n",
       "    </tr>\n",
       "  </tbody>\n",
       "</table>\n",
       "</div>"
      ],
      "text/plain": [
       "                   member_name              display_name\n",
       "0  users/101441363125954665107        Thiên Nguyễn Hoàng\n",
       "1  users/111715880194110953044              Giang Đỗ Thu\n",
       "2  users/115457224128174038130  Thành Khấu Nguyễn Trường\n",
       "3  users/104831017180979964601               Yến Lâm Kim\n",
       "4  users/110033644358569229509           Khôi Nguyễn Kim\n",
       "5  users/114480486560260912816             Vỹ Lương Minh\n",
       "6  users/101591789831969138242               Hùng Võ Trí"
      ]
     },
     "execution_count": 4,
     "metadata": {},
     "output_type": "execute_result"
    }
   ],
   "source": [
    "df_sales_pic_chat"
   ]
  },
  {
   "cell_type": "markdown",
   "id": "f987db21",
   "metadata": {},
   "source": [
    "## Tạo hàm"
   ]
  },
  {
   "cell_type": "code",
   "execution_count": 3,
   "id": "2c00c632",
   "metadata": {},
   "outputs": [],
   "source": [
    "def Alert_DS_Booking():   \n",
    "    #### Data BI (Quang Ù)\n",
    "    conn_post_1 = psycopg2.connect(host=\"172.29.15.98\",database=\"mi_report\", user=\"da_report\",password=\"Inno202$\")\n",
    "\n",
    "    #### Lấy list Asin, SKU\n",
    "    list_asin_sku = pd.read_sql_query(f\"\"\"\n",
    "        select asin, sku from public.launching_plan where asin is not null and sku is not null \"\"\",conn_post_1)\n",
    "    #### List_asin\n",
    "    list_asin = tuple(list_asin_sku['asin'])\n",
    "    #### List_sku\n",
    "    list_sku = tuple(list_asin_sku['sku'])\n",
    "\n",
    "    # Cấu hình thông tin xác thực và kết nối đến Google Sheets API\n",
    "    scope = ['https://spreadsheets.google.com/feeds', 'https://www.googleapis.com/auth/drive']\n",
    "    creds = ServiceAccountCredentials.from_json_keyfile_name(r\"G:\\Shared drives\\Deployment Data Template\\Power BI\\Python Code\\2.Daily\\email-sending-via-python-fd13e6126e20.json\", scope)\n",
    "    client = gspread.authorize(creds)\n",
    "    service = build('sheets', 'v4', credentials=creds)\n",
    "\n",
    "    # Lấy dữ liệu từ Google Sheet INVENTORY UPDATE DAILY\n",
    "    spreadsheet_id = '1oxqHbj9MFnAqFtvcREoWN6Fp9p3aCNH1ZS8i9paZLbc'\n",
    "    #https://docs.google.com/spreadsheets/d/1oxqHbj9MFnAqFtvcREoWN6Fp9p3aCNH1ZS8i9paZLbc/edit#gid=24679269\n",
    "    range_name = 'INVENTORY!A:L'\n",
    "    result = service.spreadsheets().values().get(\n",
    "            spreadsheetId=spreadsheet_id, range=range_name).execute()\n",
    "    values = result.get('values', [])\n",
    "    df_inv_up_daily = pd.DataFrame(result['values'][1:], columns=result['values'][0])\n",
    "\n",
    "    # Fillter list SKU\n",
    "    df_inv_up_daily_1 = df_inv_up_daily[df_inv_up_daily['SKU'].isin(list_sku)]\n",
    "    df_inv_up_daily_2 = df_inv_up_daily_1[df_inv_up_daily_1['INVENTORY SALABLE']!=\"\"]\n",
    "    df_inv_up_daily_3 = df_inv_up_daily_2[df_inv_up_daily_2['INVENTORY SALABLE'].notna()]\n",
    "\n",
    "    list_sku_inv_daily = df_inv_up_daily_3[['SKU']]\n",
    "\n",
    "    list_sku_inv_daily['SKU'] = list_sku_inv_daily['SKU'].str.strip()\n",
    "\n",
    "    # Lấy dữ liệu từ Google Sheet Deployment - DS Booking\n",
    "    spreadsheet_id_1 = '1SbGA5kxIPjNSNDohn0AsxBl2s_QawwI0sNMzOvjbwQs'\n",
    "    #https://docs.google.com/spreadsheets/d/1SbGA5kxIPjNSNDohn0AsxBl2s_QawwI0sNMzOvjbwQs/edit#gid=627736277\n",
    "    range_name_1 = 'DS booking!A2:M'\n",
    "    result_1 = service.spreadsheets().values().get(\n",
    "            spreadsheetId=spreadsheet_id_1, range=range_name_1).execute()\n",
    "    values_1 = result_1.get('values', [])\n",
    "    df_ds_booking = pd.DataFrame(result_1['values'][1:], columns=result_1['values'][0])\n",
    "\n",
    "    # Fillter list SKU\n",
    "    list_sku_DS_Booking = df_ds_booking[['SKU']]\n",
    "    list_sku_DS_Booking['SKU'] = list_sku_DS_Booking['SKU'].str.strip()\n",
    "    \n",
    "    list_info_sku = pd.read_sql_query(f\"\"\"\n",
    "    select SALES_LEAD, SALES_PIC, SKU, ASIN, CATEGORY, PRODUCT_GROUP, VARIATIONS from public.launching_plan\n",
    "    where asin is not null and sku is not null\n",
    "    \"\"\",conn_post_1)\n",
    "    list_info_sku.columns = list_info_sku.columns.str.upper()\n",
    "\n",
    "    # SKU Alert\n",
    "    T_alert = list_sku_inv_daily[~list_sku_inv_daily['SKU'].isin(list_sku_DS_Booking['SKU'])]\n",
    "    \n",
    "    df_alert = T_alert.merge(list_info_sku, left_on ='SKU', right_on= 'SKU', how='left')\n",
    "\n",
    "    df_alert_1 = df_alert.rename(columns= {'SALES_LEAD': 'Sales Lead','SALES_PIC': 'Sales PIC','CATEGORY': 'Category',\n",
    "                                   'PRODUCT_GROUP': 'Product Group', 'VARIATIONS': 'Product Name'})\n",
    "\n",
    "    df_alert_2 =df_alert_1[['Sales Lead','SKU','Category','Product Name']]\n",
    "\n",
    "    # Check table\n",
    "    if df_alert.empty:\n",
    "        print(\"DataFrame DS Booking is empty!\")\n",
    "        print(\"Job executed at\", datetime.datetime.now())\n",
    "    else:\n",
    "        markdown_table = tabulate(df_alert_2, headers='keys', tablefmt=\"grid\", showindex=False,\n",
    "                                  maxcolwidths=[8, 5, 20, 35],\n",
    "                                  colalign=[\"left\", \"left\", \"right\", \"right\"])\n",
    "\n",
    "        header = f\"⚠️*DS Booking Warning:*⚠️\"\n",
    "\n",
    "        text = f\"\"\"❗<users/110033644358569229509>, <users/101441363125954665107> ơi! Các SKU này chưa có trong DS Booking (<https://docs.google.com/spreadsheets/d/1SbGA5kxIPjNSNDohn0AsxBl2s_QawwI0sNMzOvjbwQs/edit#gid=0|Link>) work với Sales Lead điền vào nhé.\n",
    "                \"\"\"\n",
    "\n",
    "        result = chat.spaces().messages().create(parent= 'spaces/AAAA1aINor8', #'spaces/AAAAq6c6dr0'                                            \n",
    "                                                 body={\"text\": f\"\"\"{header}\n",
    "\n",
    "{text}```{markdown_table}```\"\"\",}\n",
    "                                                ).execute()   \n",
    "\n",
    "        print(\"Job executed at\", datetime.datetime.now())\n",
    "        print(\"Alert Thành Công\")"
   ]
  },
  {
   "cell_type": "code",
   "execution_count": 4,
   "id": "a464b212",
   "metadata": {},
   "outputs": [
    {
     "name": "stdout",
     "output_type": "stream",
     "text": [
      "Job executed at 2024-02-22 09:00:09.818024\n",
      "Alert Thành Công\n"
     ]
    }
   ],
   "source": [
    "schedule.every().day.at(\"09:00\").do(Alert_DS_Booking)\n",
    "while True:\n",
    "    schedule.run_pending()\n",
    "    time.sleep(10)"
   ]
  },
  {
   "cell_type": "code",
   "execution_count": 13,
   "id": "ab2ce7e5",
   "metadata": {},
   "outputs": [
    {
     "name": "stdout",
     "output_type": "stream",
     "text": [
      "Job executed at 2024-02-21 09:28:09.584923\n",
      "Alert Thành Công\n"
     ]
    }
   ],
   "source": [
    "Alert_DS_Booking()"
   ]
  },
  {
   "cell_type": "markdown",
   "id": "d9836b26",
   "metadata": {},
   "source": [
    "# Test + Lấy data only"
   ]
  },
  {
   "cell_type": "markdown",
   "id": "1fa0d5db",
   "metadata": {},
   "source": [
    "## Lấy list SKU"
   ]
  },
  {
   "cell_type": "code",
   "execution_count": null,
   "id": "2b560562",
   "metadata": {},
   "outputs": [],
   "source": [
    "#### Data BI (Quang Ù)\n",
    "conn_post_1 = psycopg2.connect(host=\"172.29.15.98\",database=\"mi_report\", user=\"da_report\",password=\"Inno202$\")\n",
    "\n",
    "#### Lấy list Asin, SKU\n",
    "list_asin_sku = pd.read_sql_query(f\"\"\"\n",
    "    select asin, sku from public.launching_plan where asin is not null and sku is not null \"\"\",conn_post_1)\n",
    "#### List_asin\n",
    "list_asin = tuple(list_asin_sku['asin'])\n",
    "#### List_sku\n",
    "list_sku = tuple(list_asin_sku['sku'])"
   ]
  },
  {
   "cell_type": "code",
   "execution_count": null,
   "id": "34d36727",
   "metadata": {},
   "outputs": [],
   "source": [
    "# Cấu hình thông tin xác thực và kết nối đến Google Sheets API\n",
    "scope = ['https://spreadsheets.google.com/feeds', 'https://www.googleapis.com/auth/drive']\n",
    "creds = ServiceAccountCredentials.from_json_keyfile_name(\"C:/Users/hieptn/Desktop/Test Py/my-project-123-378311-71b37cb67041.json\", scope)\n",
    "client = gspread.authorize(creds)\n",
    "service = build('sheets', 'v4', credentials=creds)"
   ]
  },
  {
   "cell_type": "markdown",
   "id": "141fd720",
   "metadata": {},
   "source": [
    "## Lấy INVENTORY UPDATE DAILY"
   ]
  },
  {
   "cell_type": "code",
   "execution_count": null,
   "id": "ad1746a8",
   "metadata": {},
   "outputs": [],
   "source": [
    "pd.set_option('display.max_rows', None)\n",
    "pd.set_option('display.max_columns', None)"
   ]
  },
  {
   "cell_type": "code",
   "execution_count": null,
   "id": "51fd155b",
   "metadata": {},
   "outputs": [],
   "source": [
    "# Lấy dữ liệu từ Google Sheet 1\n",
    "spreadsheet_id = '1oxqHbj9MFnAqFtvcREoWN6Fp9p3aCNH1ZS8i9paZLbc'\n",
    "range_name = 'INVENTORY!A:P'\n",
    "result = service.spreadsheets().values().get(\n",
    "        spreadsheetId=spreadsheet_id, range=range_name).execute()\n",
    "values = result.get('values', [])\n",
    "df_inv_up_daily = pd.DataFrame(result['values'][1:], columns=result['values'][0])"
   ]
  },
  {
   "cell_type": "code",
   "execution_count": null,
   "id": "b186ad67",
   "metadata": {},
   "outputs": [],
   "source": [
    "df_inv_up_daily"
   ]
  },
  {
   "cell_type": "code",
   "execution_count": null,
   "id": "a357ed49",
   "metadata": {},
   "outputs": [],
   "source": [
    "# Fillter list SKU\n",
    "df_inv_up_daily_1 = df_inv_up_daily[df_inv_up_daily['SKU'].isin(list_sku)]\n",
    "df_inv_up_daily_2 = df_inv_up_daily_1[df_inv_up_daily_1['INVENTORY SALABLE']!=\"\"]\n",
    "df_inv_up_daily_3 = df_inv_up_daily_2[df_inv_up_daily_2['INVENTORY SALABLE'].notna()]\n",
    "\n",
    "list_sku_inv_daily = df_inv_up_daily_3[['SKU']]\n",
    "\n",
    "list_sku_inv_daily['SKU'] = list_sku_inv_daily['SKU'].str.strip()"
   ]
  },
  {
   "cell_type": "code",
   "execution_count": null,
   "id": "fbe28fc2",
   "metadata": {},
   "outputs": [],
   "source": [
    "list_sku_inv_daily"
   ]
  },
  {
   "cell_type": "markdown",
   "id": "0fc34607",
   "metadata": {},
   "source": [
    "## Lấy INV Yes4all"
   ]
  },
  {
   "cell_type": "code",
   "execution_count": null,
   "id": "e2026b10",
   "metadata": {},
   "outputs": [],
   "source": [
    "df_inv_up_daily_3"
   ]
  },
  {
   "cell_type": "code",
   "execution_count": null,
   "id": "adae9d62",
   "metadata": {},
   "outputs": [],
   "source": [
    "df_inv_y4a = df_inv_up_daily_3[['SKU','INVENTORY NASA SELLABLE','INVENTORY ANAHEIM SELLABLE']]\n",
    "df_inv_y4a_1 = pd.melt(df_inv_y4a, id_vars=['SKU'], var_name='WH', value_name='value')\n",
    "df_inv_y4a_2 = df_inv_y4a_1[df_inv_y4a_1['value']!=\"\"]\n",
    "df_inv_y4a_3 = df_inv_y4a_2[df_inv_y4a_2['value'].notna()]"
   ]
  },
  {
   "cell_type": "code",
   "execution_count": null,
   "id": "0d37ffea",
   "metadata": {},
   "outputs": [],
   "source": [
    "df_inv_y4a_3"
   ]
  },
  {
   "cell_type": "markdown",
   "id": "74f33736",
   "metadata": {},
   "source": [
    "## Deployment - DS Booking"
   ]
  },
  {
   "cell_type": "code",
   "execution_count": null,
   "id": "89e26543",
   "metadata": {},
   "outputs": [],
   "source": [
    "# Lấy dữ liệu từ Google Sheet 2\n",
    "#spreadsheet_id_1 = '1SbGA5kxIPjNSNDohn0AsxBl2s_QawwI0sNMzOvjbwQs'\n",
    "range_name_1 = 'DS booking!A2:M'\n",
    "result_1 = service.spreadsheets().values().get(\n",
    "        spreadsheetId=spreadsheet_id_1, range=range_name_1).execute()\n",
    "values_1 = result_1.get('values', [])\n",
    "df_ds_booking = pd.DataFrame(result_1['values'][1:], columns=result_1['values'][0])"
   ]
  },
  {
   "cell_type": "code",
   "execution_count": null,
   "id": "29b11bf2",
   "metadata": {},
   "outputs": [],
   "source": [
    "df_ds_booking"
   ]
  },
  {
   "cell_type": "code",
   "execution_count": null,
   "id": "45075f2b",
   "metadata": {},
   "outputs": [],
   "source": [
    "list_sku_DS_Booking = df_ds_booking[['SKU']]\n",
    "\n",
    "list_sku_DS_Booking['SKU'] = list_sku_DS_Booking['SKU'].str.strip()"
   ]
  },
  {
   "cell_type": "markdown",
   "id": "c2cf8325",
   "metadata": {},
   "source": [
    "## List SKU + WH"
   ]
  },
  {
   "cell_type": "code",
   "execution_count": null,
   "id": "a8db21a2",
   "metadata": {},
   "outputs": [],
   "source": [
    "list_sku_DS_Booking_WH = df_ds_booking[['SKU',\"warehouse\"]].dropna()"
   ]
  },
  {
   "cell_type": "code",
   "execution_count": null,
   "id": "cb9b6284",
   "metadata": {},
   "outputs": [],
   "source": [
    "list_sku_DS_Booking_WH['Link Col'] = list_sku_DS_Booking_WH.apply(lambda row: row['SKU'] +'-'+ row['warehouse'], axis=1)"
   ]
  },
  {
   "cell_type": "code",
   "execution_count": null,
   "id": "46494fba",
   "metadata": {},
   "outputs": [],
   "source": [
    "list_sku_DS_Booking_WH"
   ]
  },
  {
   "cell_type": "markdown",
   "id": "ac02b8aa",
   "metadata": {},
   "source": [
    "## Check Data 1"
   ]
  },
  {
   "cell_type": "code",
   "execution_count": null,
   "id": "5f6d2c73",
   "metadata": {},
   "outputs": [],
   "source": [
    "T_alert = list_sku_inv_daily[~list_sku_inv_daily['SKU'].isin(list_sku_DS_Booking['SKU'])]"
   ]
  },
  {
   "cell_type": "code",
   "execution_count": null,
   "id": "64f76643",
   "metadata": {},
   "outputs": [],
   "source": [
    "T_alert"
   ]
  },
  {
   "cell_type": "markdown",
   "id": "a006f813",
   "metadata": {},
   "source": [
    "## Check data 2"
   ]
  },
  {
   "cell_type": "code",
   "execution_count": null,
   "id": "25b49971",
   "metadata": {},
   "outputs": [],
   "source": [
    "T_alert_2 = df_inv_y4a_4.merge(list_sku_DS_Booking_WH, left_on ='Link Col', right_on= 'Link Col', how='left')"
   ]
  },
  {
   "cell_type": "code",
   "execution_count": null,
   "id": "98942b75",
   "metadata": {},
   "outputs": [],
   "source": [
    "T_alert_3 = T_alert_2[T_alert_2['warehouse'].isna()]"
   ]
  },
  {
   "cell_type": "code",
   "execution_count": null,
   "id": "3e4ff588",
   "metadata": {},
   "outputs": [],
   "source": [
    "T_alert_3"
   ]
  },
  {
   "cell_type": "markdown",
   "id": "ded9737d",
   "metadata": {},
   "source": [
    "## Info Sku"
   ]
  },
  {
   "cell_type": "code",
   "execution_count": null,
   "id": "10512502",
   "metadata": {},
   "outputs": [],
   "source": [
    "list_info_sku = pd.read_sql_query(f\"\"\"\n",
    "select SALES_LEAD, SALES_PIC, SKU, ASIN, CATEGORY, PRODUCT_GROUP, VARIATIONS from BI_DATAMART_1.launching_plan\n",
    "where asin is not null and sku is not null\n",
    "\"\"\",db)"
   ]
  },
  {
   "cell_type": "code",
   "execution_count": null,
   "id": "111fef34",
   "metadata": {},
   "outputs": [],
   "source": [
    "list_info_sku"
   ]
  },
  {
   "cell_type": "code",
   "execution_count": null,
   "id": "d8279f8a",
   "metadata": {},
   "outputs": [],
   "source": [
    "df_alert = T_alert.merge(list_info_sku, left_on ='SKU', right_on= 'SKU', how='left')"
   ]
  },
  {
   "cell_type": "code",
   "execution_count": null,
   "id": "f0b6ace4",
   "metadata": {
    "scrolled": true
   },
   "outputs": [],
   "source": [
    "df_alert"
   ]
  },
  {
   "cell_type": "code",
   "execution_count": null,
   "id": "397b8bc7",
   "metadata": {},
   "outputs": [],
   "source": [
    "df_alert_1 = df_alert.rename(columns= {'SALES_LEAD': 'Sales Lead','SALES_PIC': 'Sales PIC','CATEGORY': 'Category',\n",
    "                                       'PRODUCT_GROUP': 'Product Group', 'VARIATIONS': 'Product Name'})"
   ]
  },
  {
   "cell_type": "code",
   "execution_count": null,
   "id": "316619cf",
   "metadata": {},
   "outputs": [],
   "source": [
    "df_alert_2 =df_alert_1[['Sales Lead','SKU','Category','Product Name']]"
   ]
  },
  {
   "cell_type": "code",
   "execution_count": null,
   "id": "ebb79899",
   "metadata": {},
   "outputs": [],
   "source": [
    "markdown_table = tabulate(df_alert_2, headers='keys', tablefmt=\"grid\", showindex=False,\n",
    "                          maxcolwidths=[8, 5, 20, 50],\n",
    "                          colalign=[\"left\", \"left\", \"right\", \"right\"])"
   ]
  },
  {
   "cell_type": "code",
   "execution_count": null,
   "id": "a18d105b",
   "metadata": {},
   "outputs": [],
   "source": [
    "print(markdown_table)"
   ]
  }
 ],
 "metadata": {
  "kernelspec": {
   "display_name": "Python 3 (ipykernel)",
   "language": "python",
   "name": "python3"
  },
  "language_info": {
   "codemirror_mode": {
    "name": "ipython",
    "version": 3
   },
   "file_extension": ".py",
   "mimetype": "text/x-python",
   "name": "python",
   "nbconvert_exporter": "python",
   "pygments_lexer": "ipython3",
   "version": "3.11.4"
  }
 },
 "nbformat": 4,
 "nbformat_minor": 5
}
